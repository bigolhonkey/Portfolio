{
 "cells": [
  {
   "cell_type": "code",
   "execution_count": 25,
   "metadata": {},
   "outputs": [],
   "source": [
    "import pandas as pd\n",
    "%matplotlib inline"
   ]
  },
  {
   "cell_type": "markdown",
   "metadata": {},
   "source": [
    "## Queries"
   ]
  },
  {
   "cell_type": "markdown",
   "metadata": {},
   "source": [
    "### Query 1"
   ]
  },
  {
   "cell_type": "code",
   "execution_count": 20,
   "metadata": {},
   "outputs": [
    {
     "name": "stdout",
     "output_type": "stream",
     "text": [
      "Waiting on bqjob_rd819057e74c6ee1_00000168ad121625_1 ... (0s) Current status: DONE   \n",
      "+-------------+\n",
      "| total_trips |\n",
      "+-------------+\n",
      "|      983648 |\n",
      "+-------------+\n"
     ]
    }
   ],
   "source": [
    "!bq query --use_legacy_sql=false 'SELECT count(*) as total_trips FROM `bigquery-public-data.san_francisco.bikeshare_trips`'"
   ]
  },
  {
   "cell_type": "markdown",
   "metadata": {},
   "source": [
    "### Query 2"
   ]
  },
  {
   "cell_type": "code",
   "execution_count": 21,
   "metadata": {
    "scrolled": true
   },
   "outputs": [
    {
     "name": "stdout",
     "output_type": "stream",
     "text": [
      "Waiting on bqjob_r7fa645ef6c6f9aab_00000168ad12e5d7_1 ... (0s) Current status: DONE   \n",
      "+---------------------+---------------------+\n",
      "| Earliest_Start_Time |   Latest_End_Time   |\n",
      "+---------------------+---------------------+\n",
      "| 2013-08-29 09:08:00 | 2016-08-31 23:48:00 |\n",
      "+---------------------+---------------------+\n"
     ]
    }
   ],
   "source": [
    "!bq query --use_legacy_sql=false 'SELECT min(start_date) as Earliest_Start_Time, max(end_date) as Latest_End_Time \\\n",
    "                                  FROM `bigquery-public-data.san_francisco.bikeshare_trips`'"
   ]
  },
  {
   "cell_type": "markdown",
   "metadata": {},
   "source": [
    "### Query 3"
   ]
  },
  {
   "cell_type": "code",
   "execution_count": 22,
   "metadata": {},
   "outputs": [
    {
     "name": "stdout",
     "output_type": "stream",
     "text": [
      "Waiting on bqjob_r563088161f92fc32_00000168ad134341_1 ... (0s) Current status: DONE   \n",
      "+-------------+\n",
      "| Total_Bikes |\n",
      "+-------------+\n",
      "|         700 |\n",
      "+-------------+\n"
     ]
    }
   ],
   "source": [
    "!bq query --use_legacy_sql=false 'SELECT count(distinct bike_number) as Total_Bikes \\\n",
    "                                  FROM `bigquery-public-data.san_francisco.bikeshare_trips`'"
   ]
  },
  {
   "cell_type": "markdown",
   "metadata": {},
   "source": [
    "### Query 4"
   ]
  },
  {
   "cell_type": "code",
   "execution_count": 34,
   "metadata": {},
   "outputs": [
    {
     "name": "stdout",
     "output_type": "stream",
     "text": [
      "+---------------+\r\n",
      "| Morning_Trips |\r\n",
      "+---------------+\r\n",
      "|        412339 |\r\n",
      "+---------------+\r\n"
     ]
    }
   ],
   "source": [
    "!bq query --quiet --use_legacy_sql=false 'SELECT count(trip_id) as Morning_Trips \\\n",
    "                                  FROM `bigquery-public-data.san_francisco.bikeshare_trips` \\\n",
    "                                  WHERE TIME(start_date) < \"12:00:00\"'"
   ]
  },
  {
   "cell_type": "markdown",
   "metadata": {},
   "source": [
    "**Number of morning trips = 412,339**\n",
    "\n",
    "**Number of afternoon trips = 983648 - 412,339 = 571,309**"
   ]
  },
  {
   "cell_type": "markdown",
   "metadata": {},
   "source": [
    "## Questions"
   ]
  },
  {
   "cell_type": "markdown",
   "metadata": {},
   "source": [
    "#### Question 1: How many bike trips were taken by subscribers versus non subscribers?"
   ]
  },
  {
   "cell_type": "markdown",
   "metadata": {},
   "source": [
    "#### Question 2: How many rides were taken by non-subscribers where the start and end stations are different?"
   ]
  },
  {
   "cell_type": "markdown",
   "metadata": {},
   "source": [
    "#### Question 3: How many rides were shorter than or equal to 30 mintues? "
   ]
  },
  {
   "cell_type": "markdown",
   "metadata": {},
   "source": [
    "#### Question 4: Which are top 5 popular stations where bike rides start in the morning ?"
   ]
  },
  {
   "cell_type": "markdown",
   "metadata": {},
   "source": [
    "#### Question 5: Which are top 5 popular stations where bike rides start in the afternoon ?"
   ]
  },
  {
   "cell_type": "markdown",
   "metadata": {},
   "source": [
    "## Answers"
   ]
  },
  {
   "cell_type": "markdown",
   "metadata": {},
   "source": [
    "#### 1: "
   ]
  },
  {
   "cell_type": "code",
   "execution_count": 40,
   "metadata": {},
   "outputs": [
    {
     "name": "stdout",
     "output_type": "stream",
     "text": [
      "+-----------+\r\n",
      "| Customers |\r\n",
      "+-----------+\r\n",
      "|    136809 |\r\n",
      "+-----------+\r\n"
     ]
    }
   ],
   "source": [
    "!bq query --quiet --use_legacy_sql=false 'SELECT count(subscriber_type) as Customers \\\n",
    "                                          FROM `bigquery-public-data.san_francisco.bikeshare_trips` \\\n",
    "                                          WHERE (subscriber_type LIKE \"Customer\")'"
   ]
  },
  {
   "cell_type": "code",
   "execution_count": 41,
   "metadata": {},
   "outputs": [
    {
     "name": "stdout",
     "output_type": "stream",
     "text": [
      "+-------------+\r\n",
      "| Subscribers |\r\n",
      "+-------------+\r\n",
      "|      846839 |\r\n",
      "+-------------+\r\n"
     ]
    }
   ],
   "source": [
    "!bq query --quiet --use_legacy_sql=false 'SELECT count(subscriber_type) as Subscribers \\\n",
    "                                          FROM `bigquery-public-data.san_francisco.bikeshare_trips` \\\n",
    "                                          WHERE (subscriber_type LIKE \"Subscriber\")'"
   ]
  },
  {
   "cell_type": "markdown",
   "metadata": {},
   "source": [
    "** There are 846,839 annual or monthly bike share subscribers versus 136,809 single or 3 day members **"
   ]
  },
  {
   "cell_type": "markdown",
   "metadata": {},
   "source": [
    "#### 2: "
   ]
  },
  {
   "cell_type": "code",
   "execution_count": 44,
   "metadata": {},
   "outputs": [
    {
     "name": "stdout",
     "output_type": "stream",
     "text": [
      "+--------------------------+\r\n",
      "| One_Way_Subscriber_Trips |\r\n",
      "+--------------------------+\r\n",
      "|                   836945 |\r\n",
      "+--------------------------+\r\n"
     ]
    }
   ],
   "source": [
    "!bq query --quiet --use_legacy_sql=false 'SELECT  COUNT(distinct trip_id) as One_Way_Subscriber_Trips\\\n",
    "                                          FROM `bigquery-public-data.san_francisco.bikeshare_trips` \\\n",
    "                                          WHERE start_station_id != end_station_id and subscriber_type = \"Subscriber\"'"
   ]
  },
  {
   "cell_type": "markdown",
   "metadata": {},
   "source": [
    "** A total of 836,945 trips were taken by subscribers that were one way trips **"
   ]
  },
  {
   "cell_type": "markdown",
   "metadata": {},
   "source": [
    "#### 3: "
   ]
  },
  {
   "cell_type": "code",
   "execution_count": 47,
   "metadata": {},
   "outputs": [
    {
     "name": "stdout",
     "output_type": "stream",
     "text": [
      "+-------------+\r\n",
      "| Short_Trips |\r\n",
      "+-------------+\r\n",
      "|      936311 |\r\n",
      "+-------------+\r\n"
     ]
    }
   ],
   "source": [
    "!bq query --quiet --use_legacy_sql=false 'SELECT count(distinct trip_id) as Short_Trips \\\n",
    "                                          FROM `bigquery-public-data.san_francisco.bikeshare_trips` \\\n",
    "                                          WHERE (duration_sec) <= 1800'"
   ]
  },
  {
   "cell_type": "markdown",
   "metadata": {},
   "source": [
    "#### 4:"
   ]
  },
  {
   "cell_type": "code",
   "execution_count": 52,
   "metadata": {},
   "outputs": [
    {
     "name": "stdout",
     "output_type": "stream",
     "text": [
      "+------------+-----------------------------------------------+\r\n",
      "| Trip_count |              start_station_name               |\r\n",
      "+------------+-----------------------------------------------+\r\n",
      "|      47972 | San Francisco Caltrain (Townsend at 4th)      |\r\n",
      "|      36450 | San Francisco Caltrain 2 (330 Townsend)       |\r\n",
      "|      26413 | Harry Bridges Plaza (Ferry Building)          |\r\n",
      "|      23066 | Temporary Transbay Terminal (Howard at Beale) |\r\n",
      "|      18667 | Steuart at Market                             |\r\n",
      "+------------+-----------------------------------------------+\r\n"
     ]
    }
   ],
   "source": [
    "!bq query --quiet --use_legacy_sql=false 'SELECT  COUNT(*) as Trip_count, start_station_name\\\n",
    "                                          FROM `bigquery-public-data.san_francisco.bikeshare_trips` \\\n",
    "                                          WHERE TIME(start_date) < \"12:00:00\" \\\n",
    "                                          GROUP BY start_station_name \\\n",
    "                                          ORDER BY COUNT(start_station_name) DESC LIMIT 5'"
   ]
  },
  {
   "cell_type": "markdown",
   "metadata": {},
   "source": [
    "**The top 5 stations with trips starting in the morning are shown above.**"
   ]
  },
  {
   "cell_type": "code",
   "execution_count": 54,
   "metadata": {},
   "outputs": [
    {
     "name": "stdout",
     "output_type": "stream",
     "text": [
      "+------------+------------------------------------------+\r\n",
      "| Trip_count |            start_station_name            |\r\n",
      "+------------+------------------------------------------+\r\n",
      "|      29566 | Embarcadero at Sansome                   |\r\n",
      "|      24798 | 2nd at Townsend                          |\r\n",
      "|      24762 | Townsend at 7th                          |\r\n",
      "|      24711 | San Francisco Caltrain (Townsend at 4th) |\r\n",
      "|      22941 | Market at Sansome                        |\r\n",
      "+------------+------------------------------------------+\r\n"
     ]
    }
   ],
   "source": [
    "!bq query --quiet --use_legacy_sql=false 'SELECT  COUNT(*) as Trip_count, start_station_name\\\n",
    "                                          FROM `bigquery-public-data.san_francisco.bikeshare_trips` \\\n",
    "                                          WHERE TIME(start_date) >= \"12:00:00\" \\\n",
    "                                          GROUP BY start_station_name \\\n",
    "                                          ORDER BY COUNT(start_station_name) DESC LIMIT 5'"
   ]
  },
  {
   "cell_type": "markdown",
   "metadata": {},
   "source": [
    "**The top 5 stations with trips starting in the afternoon are shown above.**"
   ]
  }
 ],
 "metadata": {
  "kernelspec": {
   "display_name": "Python 3",
   "language": "python",
   "name": "python3"
  },
  "language_info": {
   "codemirror_mode": {
    "name": "ipython",
    "version": 3
   },
   "file_extension": ".py",
   "mimetype": "text/x-python",
   "name": "python",
   "nbconvert_exporter": "python",
   "pygments_lexer": "ipython3",
   "version": "3.5.2"
  }
 },
 "nbformat": 4,
 "nbformat_minor": 2
}
